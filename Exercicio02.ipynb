{
 "cells": [
  {
   "cell_type": "markdown",
   "metadata": {},
   "source": [
    "1 - Crie um programa que recebe uma lista de números e\n",
    "- retorne o maior elemento\n",
    "- retorne a soma dos elementos\n",
    "- retorne o número de ocorrências do primeiro elemento da lista\n",
    "- retorne a média dos elementos\n",
    "- retorne o valor mais próximo da média dos elementos\n",
    "- retorne a soma dos elementos com valor negativo\n",
    "- retorne a quantidade de vizinhos iguais"
   ]
  },
  {
   "cell_type": "code",
   "execution_count": 14,
   "metadata": {},
   "outputs": [
    {
     "name": "stdout",
     "output_type": "stream",
     "text": [
      "Digite números separados por espaço.\n",
      "5 10 10 5\n",
      "\n",
      "Maior: 10\n",
      "Soma: 30\n",
      "Média: 7.5\n"
     ]
    }
   ],
   "source": [
    "print(\"Digite números separados por espaço.\")\n",
    "numbers = [int(x) for x in input().split()]\n",
    "maior = numbers[0]\n",
    "soma = 0\n",
    "\n",
    "for n in numbers:\n",
    "    if(maior < n):\n",
    "        maior = n\n",
    "    \n",
    "    soma += n\n",
    "\n",
    "media = soma / len(numbers)\n",
    "print(\"\\nMaior:\", maior)\n",
    "print(\"Soma:\", soma)\n",
    "print(\"Média:\", media)"
   ]
  },
  {
   "cell_type": "markdown",
   "metadata": {},
   "source": [
    "2 - Faça um programa que receba duas listas e retorne True se são iguais ou False caso contrario.\n",
    "Duas listas são iguais se possuem os mesmos valores e na mesma ordem."
   ]
  },
  {
   "cell_type": "code",
   "execution_count": 25,
   "metadata": {},
   "outputs": [
    {
     "name": "stdout",
     "output_type": "stream",
     "text": [
      "Digite um número da lista 1 (separados por espaço): 2 5\n",
      "Digite um número da lista 2 (separados por espaço): 5 2\n",
      "False\n"
     ]
    }
   ],
   "source": [
    "list1 = [int(x) for x in input(\"Digite um número da lista 1 (separados por espaço): \").split()]\n",
    "list2 = [int(x) for x in input(\"Digite um número da lista 2 (separados por espaço): \").split()]\n",
    "\n",
    "for n in list1:\n",
    "    for m in list2:\n",
    "        if (n != m):\n",
    "            equals = False\n",
    "            break\n",
    "\n",
    "print(equals and bool(set(list1).intersection(list2)))"
   ]
  },
  {
   "cell_type": "markdown",
   "metadata": {},
   "source": [
    "3 - Faça um programa que receba duas listas e retorne True se têm os mesmos elementos ou False caso contrário\n",
    "Duas listas possuem os mesmos elementos quando são compostas pelos mesmos valores, mas não obrigatoriamente na mesma ordem."
   ]
  },
  {
   "cell_type": "code",
   "execution_count": 22,
   "metadata": {},
   "outputs": [
    {
     "name": "stdout",
     "output_type": "stream",
     "text": [
      "Digite um número da lista 1 (separados por espaço): 2 5\n",
      "Digite um número da lista 2 (separados por espaço): 5 2\n",
      "True\n"
     ]
    }
   ],
   "source": [
    "list1 = [int(x) for x in input(\"Digite um número da lista 1 (separados por espaço): \").split()]\n",
    "list2 = [int(x) for x in input(\"Digite um número da lista 2 (separados por espaço): \").split()]\n",
    "\n",
    "print(bool(set(list1).intersection(list2)))"
   ]
  },
  {
   "cell_type": "markdown",
   "metadata": {},
   "source": [
    "4 - Faça um programa que percorre uma lista com o seguinte formato: [['Brasil',\n",
    "'Italia', [10, 9]], ['Brasil', 'Espanha', [5, 7]], ['Italia', 'Espanha', [7,8]]]. Essa lista indica o\n",
    "número de faltas que cada time fez em cada jogo. Na lista acima, no jogo entre Brasil\n",
    "e Itália, o Brasil fez 10 faltas e a Itália fez 9.\n",
    "O programa deve imprimir na tela:\n",
    "- o total de faltas do campeonato\n",
    "- o time que fez mais faltas\n",
    "- o time que fez menos faltas"
   ]
  },
  {
   "cell_type": "code",
   "execution_count": 13,
   "metadata": {},
   "outputs": [
    {
     "name": "stdout",
     "output_type": "stream",
     "text": [
      "Total Brasil:  15\n",
      "Total Itália:  16\n",
      "Total Espanha: 15\n",
      "\n",
      "Total: 46 faltas.\n",
      "Maior: Itália\n",
      "Menor: Brasil e Espanha\n"
     ]
    }
   ],
   "source": [
    "lista = [['Brasil', 'Italia', [10, 9]], ['Brasil', 'Espanha', [5, 7]], ['Italia', 'Espanha', [7,8]]]\n",
    "brasil_italia = lista[0]\n",
    "brasil_espanha = lista[1]\n",
    "italia_espanha = lista[2]\n",
    "\n",
    "faltas_brasil_italia = brasil_italia[2][0]\n",
    "faltas_italia_brasil = brasil_italia[2][1]\n",
    "\n",
    "faltas_brasil_espanha = brasil_espanha[2][0]\n",
    "faltas_espanha_brasil = brasil_espanha[2][1]\n",
    "\n",
    "faltas_italia_espanha = italia_espanha[2][0]\n",
    "faltas_espanha_italia = italia_espanha[2][1]\n",
    "\n",
    "total_brasil = faltas_brasil_espanha + faltas_brasil_italia\n",
    "total_italia = faltas_italia_brasil + faltas_italia_espanha\n",
    "total_espanha = faltas_espanha_brasil + faltas_espanha_italia\n",
    "total = total_brasil + total_italia + total_espanha\n",
    "\n",
    "if (total_brasil > total_espanha and total_brasil > total_italia):\n",
    "    maior = \"Brasil\"\n",
    "elif (total_espanha > total_brasil and total_espanha > total_italia):\n",
    "    maior = \"Espanha\"\n",
    "elif (total_italia > total_brasil and total_italia > total_espanha):\n",
    "    maior = \"Itália\"\n",
    "    \n",
    "if total_brasil != total_espanha and total_brasil != total_italia and total_italia != total_espanha:\n",
    "    if (total_brasil < total_espanha and total_brasil < total_italia):\n",
    "        menor = \"Brasil\"\n",
    "    elif (total_espanha < total_brasil and total_espanha < total_italia):\n",
    "        menor = \"Espanha\"\n",
    "    elif (total_italia < total_brasil and total_italia < total_espanha):\n",
    "        menor = \"Itália\"\n",
    "else:\n",
    "    if (total_brasil == total_espanha):\n",
    "        menor = \"Brasil e Espanha\"\n",
    "    elif (total_brasil == total_italia):\n",
    "        menor = \"Brasil e Itália\"\n",
    "    elif(total_espanha == total_italia):\n",
    "        menor = \"Espanha e Itália\"\n",
    "        \n",
    "print(\"Total Brasil: \", total_brasil)\n",
    "print(\"Total Itália: \", total_italia)\n",
    "print(\"Total Espanha:\", total_espanha)\n",
    "\n",
    "print(\"\\nTotal:\", total, \"faltas.\")\n",
    "print(\"Maior:\", maior)\n",
    "print(\"Menor:\", menor)"
   ]
  },
  {
   "cell_type": "markdown",
   "metadata": {},
   "source": [
    "5 - Escreva um programa que conta a quantidade de vogais em uma string e armazena tal quantidade em um dicionário, onde a chave é a vogal considerada."
   ]
  },
  {
   "cell_type": "code",
   "execution_count": 33,
   "metadata": {},
   "outputs": [
    {
     "name": "stdout",
     "output_type": "stream",
     "text": [
      "Digite uma frase qualquer: Teste\n",
      "\n",
      "Dicionário: {'e': 2}\n"
     ]
    }
   ],
   "source": [
    "vogais = set('aeiou')\n",
    "\n",
    "frase = input(\"Digite uma frase qualquer: \")\n",
    "cont = 0\n",
    "\n",
    "for i in frase:\n",
    "    if(i in vogais):\n",
    "        cont += 1\n",
    "        vogal = i\n",
    "\n",
    "dicionario = {vogal : cont}\n",
    "print(\"\\nDicionário:\", dicionario)"
   ]
  },
  {
   "cell_type": "markdown",
   "metadata": {},
   "source": [
    "6 - Escreva um programa que lê̂ duas notas de vários alunos e armazena tais notas em um dicionário, onde a chave é o nome do aluno. A entrada de dados deve terminar quando for lida uma string vazia como nome. Escreva uma função que retorna a\n",
    "média do aluno, dado seu nome."
   ]
  },
  {
   "cell_type": "code",
   "execution_count": 49,
   "metadata": {},
   "outputs": [
    {
     "name": "stdout",
     "output_type": "stream",
     "text": [
      "Informe o nome do aluno 1: Lucas\n",
      "Digite a primeira nota do aluno 1: 9\n",
      "Digite a segunda nota do aluno 1: 8\n",
      "{'Lucas': [9.0, 8.0]}\n",
      "\n",
      "Informe o nome do aluno 2: Teste\n",
      "Digite a primeira nota do aluno 2: 6\n",
      "Digite a segunda nota do aluno 2: 7\n",
      "{'Lucas': [9.0, 8.0], 'Teste': [6.0, 7.0]}\n",
      "8.5\n"
     ]
    }
   ],
   "source": [
    "while True:\n",
    "    aluno1 = input(\"Informe o nome do aluno 1: \")\n",
    "    a1_nota1 = float(input(\"Digite a primeira nota do aluno 1: \"))\n",
    "    a1_nota2 = float(input(\"Digite a segunda nota do aluno 1: \"))\n",
    "    alunos_dic = {aluno1 : [a1_nota1, a1_nota2]}\n",
    "    print(alunos_dic)\n",
    "    \n",
    "    aluno2 = input(\"\\nInforme o nome do aluno 2: \")\n",
    "    a2_nota1 = float(input(\"Digite a primeira nota do aluno 2: \"))\n",
    "    a2_nota2 = float(input(\"Digite a segunda nota do aluno 2: \"))\n",
    "    alunos_dic[aluno2] = [a2_nota1, a2_nota2]\n",
    "    print(alunos_dic)\n",
    "    \n",
    "    break\n",
    "    \n",
    "def media(aluno):\n",
    "    n1, n2 = alunos_dic[aluno]\n",
    "    media = (n1 + n2) / 2\n",
    "    return media\n",
    "\n",
    "print(media(aluno1))"
   ]
  },
  {
   "cell_type": "markdown",
   "metadata": {},
   "source": [
    "\n",
    "7 - Uma pista de Kart permite 10 voltas para cada um de 6 corredores. Escreva um programa que leia todos os tempos em segundos e os guarde em um dicionário, onde a chave é o nome do corredor. Ao final diga de quem foi a melhor volta da\n",
    "prova e em que volta; e ainda a classificação final em ordem (1 o o campeão). O campeão é o que tem a menor média de tempos."
   ]
  },
  {
   "cell_type": "code",
   "execution_count": 2,
   "metadata": {},
   "outputs": [
    {
     "name": "stdout",
     "output_type": "stream",
     "text": [
      "Informe o nome do corredor: Teste\n",
      "Informe o tempo em segundos para o corredor: 23.3\n",
      "{'Teste': [23.3]}\n"
     ]
    }
   ],
   "source": [
    "voltas = [None] * 10\n",
    "corredores = [None] * 6\n",
    "\n",
    "for i in voltas:\n",
    "    for j in corredores:\n",
    "        c = input(\"Informe o nome do corredor: \")\n",
    "        c_time = float(input(\"Informe o tempo em segundos para o corredor: \"))\n",
    "        dicionario = {c : [c_time]}\n",
    "        break\n",
    "    break\n",
    "    \n",
    "##tive dificuldades neste exercício e não consegui finalizá-lo\n",
    "    \n",
    "print(dicionario)"
   ]
  },
  {
   "cell_type": "markdown",
   "metadata": {},
   "source": [
    "8 - Escreva um programa para armazenar uma agenda de telefones em um dicionário.\n",
    "Cada pessoa pode ter um ou mais telefones e a chave do dicionário é o nome da pessoa. Seu programa deve ter as seguintes funções:\n",
    "- incluirNovoNome – essa função acrescenta um novo nome na agenda, com um ou mais telefones. Ela deve receber como argumentos o nome e os telefones.\n",
    "- incluirTelefone – essa função acrescenta um telefone em um nome existente na agenda. Caso o nome não exista na agenda, você̂ deve perguntar se a pessoa deseja inclui-lo. Caso a resposta seja afirmativa, use a função anterior para incluir o novo nome.\n",
    "- excluirTelefone – essa função exclui um telefone de uma pessoa que já está na agenda. Se a pessoa tiver apenas um telefone, ela deve ser excluída da agenda.\n",
    "- excluirNome – essa função exclui uma pessoa da agenda.- consultarTelefone – essa função retorna os telefones de uma pessoa na agenda."
   ]
  },
  {
   "cell_type": "code",
   "execution_count": 8,
   "metadata": {},
   "outputs": [
    {
     "name": "stdout",
     "output_type": "stream",
     "text": [
      "Digite o nome: Teste\n",
      "Digite o telefone: 34345345\n"
     ]
    }
   ],
   "source": [
    "while True:\n",
    "    nome = input(\"Digite o nome: \")\n",
    "    telefone = input(\"Digite o telefone: \")\n",
    "    lista = {nome : telefone}\n",
    "    break\n",
    "\n",
    "def incluirNovoNome(nome, telefones):\n",
    "    lista = {nome : [telefones]}\n",
    "    \n",
    "def incluirTelefone(nome, telefone):\n",
    "    lista[nome] : telefone\n",
    "\n",
    "def excluirTelefone(nome, telefone):\n",
    "    lista[nome] : ''\n",
    "        \n",
    "def excluirNome(nome):\n",
    "    del lista[nome]"
   ]
  },
  {
   "cell_type": "markdown",
   "metadata": {},
   "source": [
    "9 - Faça um programa que leia um arquivo texto contendo uma lista de endereços IP e gere um outro arquivo, contendo um relatório dos endereços IP válidos e inválidos.\n",
    "O arquivo de entrada possui o seguinte formato:\n",
    "200.135.80.9\n",
    "192.168.1.1\n",
    "8.35.67.74\n",
    "257.32.4.5\n",
    "85.345.1.2\n",
    "1.2.3.4\n",
    "9.8.234.5\n",
    "192.168.0.256\n",
    "O arquivo de saída possui o seguinte formato:\n",
    "[Endereços válidos:]\n",
    "200.135.80.9\n",
    "192.168.1.1\n",
    "8.35.67.74\n",
    "1.2.3.4\n",
    "[Endereços inválidos:]\n",
    "257.32.4.5\n",
    "85.345.1.2\n",
    "9.8.234.5\n",
    "192.168.0.256"
   ]
  },
  {
   "cell_type": "code",
   "execution_count": 3,
   "metadata": {},
   "outputs": [
    {
     "name": "stdout",
     "output_type": "stream",
     "text": [
      "[Endereços válidos:]\n",
      "\n",
      "8.35.67.74\n",
      "127.0.0.2\n",
      "192.168.1.1\n",
      "1.1.0.99\n",
      "127.0.0.1\n",
      "200.135.80.9\n",
      "1.2.3.4\n",
      "127.0.1.1\n",
      "9.8.234.5\n",
      "[Endereços inválidos:]\n",
      "\n",
      "257.32.4.5\n",
      "0.25.33.19\n",
      "85.345.1.2\n",
      "0.168.1.36\n",
      "192.168.0.256\n",
      "192.0.0.256\n"
     ]
    }
   ],
   "source": [
    "import re\n",
    "def regex(pattern, string):\n",
    "    capt = re.match(pattern, string)\n",
    "    if bool(capt):\n",
    "        return capt.group()\n",
    "    return False\n",
    "\n",
    "ip_v = ''\n",
    "ip_i = ''\n",
    "list = {'0.25.33.19', '127.0.1.1','127.0.0.2','127.0.0.1','192.0.0.256','0.168.1.36','1.1.0.99','200.135.80.9','192.168.1.1','8.35.67.74','257.32.4.5','85.345.1.2','1.2.3.4','9.8.234.5','192.168.0.256'}\n",
    "for ip in list:\n",
    "    if ip == '0.0.0.0':\n",
    "        ip_v = ip_v + '\\n' + ip\n",
    "    elif regex('^(([1-9]\\.|[1-9][0-9]\\.|1[0-9][0-9]\\.|2[0-4][0-9]\\.|25[0-5]\\.)([0-9]\\.|[1-9][0-9]\\.|1[0-9][0-9]\\.|2[0-4][0-9]\\.|25[0-5]\\.)([0-9]\\.|[1-9][0-9]\\.|1[0-9][0-9]\\.|2[0-4][0-9]\\.|25[0-5]\\.)([0-9]\\.|[1-9][0-9]\\.|1[0-9][0-9]\\.|2[0-4][0-9]\\.|25[0-5]\\.))$', ip + '.'):\n",
    "        ip_v = ip_v + '\\n' + ip\n",
    "    else:\n",
    "        ip_i = ip_i + '\\n' + ip\n",
    "\n",
    "print('[Endereços válidos:]')\n",
    "print(ip_v)\n",
    "print('[Endereços inválidos:]')\n",
    "print(ip_i)"
   ]
  },
  {
   "cell_type": "markdown",
   "metadata": {},
   "source": [
    "10 - A ACME Inc., uma empresa de 500 funcionários, está tendo problemas de espaço em disco no seu servidor de arquivos. Para tentar resolver este problema, o Administrador de Rede precisa saber qual o espaço ocupado pelos usuários, e\n",
    "identificar os usuários com maior espaço ocupado. Através de um programa, baixado da Internet, ele conseguiu gerar o seguinte arquivo, chamado \"usuarios.txt\":\n",
    "alexandre\n",
    "anderson\n",
    "antonio\n",
    "carlos\n",
    "cesar\n",
    "rosemary\n",
    "456123789\n",
    "1245698456\n",
    "123456456\n",
    "91257581\n",
    "987458\n",
    "789456125\n",
    "Neste arquivo, o nome do usuário possui 15 caracteres. A partir deste arquivo, você deve criar um programa que gere um relatório, chamado \"relatório.txt\", no seguinte formato:\n",
    "ACME Inc.      Uso do espaço em disco pelos usuários\n",
    "--------------------------------------------------------------\n",
    "----------\n",
    "Nr. Usuário    Espaço utilizado    % do uso\n",
    "1   Alexandre    434,99 MB          16,85%\n",
    "2   anderson    1187,99 MB          46,02% \n",
    "3   antonio      117,73 MB           4,56%\n",
    "4   carlos        87,03 MB           3,37%\n",
    "5   cesar          0,94 MB           0,04%\n",
    "6   rosemary     752,88 MB          29,16%\n",
    "\n",
    "Espaço total ocupado: 2581,57 MB\n",
    "Espaço médio ocupado: 430,26 MB\n",
    "O arquivo de entrada deve ser lido uma única vez, e os dados armazenados em memória, caso sejam necessários, de forma a agilizar a execução do programa. A conversão da espaço ocupado em disco, de bytes para megabytes deverá ser feita\n",
    "através de uma função separada, que será chamada pelo programa principal. O cálculo do percentual de uso também deverá ser feito através de uma função, que será chamada pelo programa principal.    "
   ]
  },
  {
   "cell_type": "code",
   "execution_count": 12,
   "metadata": {},
   "outputs": [
    {
     "name": "stdout",
     "output_type": "stream",
     "text": [
      "ACME Inc.               Uso do espaço em disco pelos usuários.\n",
      "--------------------------------------------------------------\n",
      "Nr.\tUsuário        \tEspaço utilizado\t% do uso\n",
      "\n",
      "1\talexandre      \t434.99          MB\t16.85%\n",
      "2\tanderson       \t1187.99         MB\t46.02%\n",
      "3\tantonio        \t117.74          MB\t4.56%\n",
      "4\tcarlos         \t87.03           MB\t3.37%\n",
      "5\tcesar          \t0.94            MB\t0.04%\n",
      "6\trosemary       \t752.88          MB\t29.16%\n",
      "\n",
      "\n",
      "Espaço Total Ocupado: 2581.58 MB\n",
      "\n",
      "Espaço médio Ocupado: 430.26 MB\n"
     ]
    }
   ],
   "source": [
    "def toMB(tamanhoEmBytes):\n",
    "   tamanhoEmBytes = float(tamanhoEmBytes)\n",
    "   return (float(tamanhoEmBytes/(1024*1024)))\n",
    "   \n",
    "def percentualPorUsuario(lista, total):\n",
    "   percentual = (lista[3]/total)*100\n",
    "   #percentual = \"{0:.2f}\".format(percentual)\n",
    "   lista.insert((len(cadaUsuario)),percentual)\n",
    "\n",
    "def espacoMedioOcupado(lista, total):\n",
    "   media = 0\n",
    "   elementos = len(lista)\n",
    "   media = (total)/(elementos+1)\n",
    "   #media = \"{0:.2f}\".format(media)\n",
    "   return media\n",
    "\n",
    "usuarios = []\n",
    "posicao = 1\n",
    "total = media = 0\n",
    "with open (\"usuarios.txt\",\"r\") as arquivo:\n",
    "   valor = 0\n",
    "   for linha in arquivo:\n",
    "      usuarios.append(linha.split()) \n",
    "\n",
    "   for cadaUsuario in usuarios:\n",
    "      cadaUsuario.insert(0,posicao)\n",
    "      valor = toMB(float(cadaUsuario[2]))\n",
    "      total += valor\n",
    "      cadaUsuario.insert((len(cadaUsuario)),valor)\n",
    "      posicao+=1\n",
    "\n",
    "   for cadaUsuario in usuarios:\n",
    "      percentualPorUsuario(cadaUsuario, total)\n",
    "\n",
    "media = espacoMedioOcupado(cadaUsuario,total)\n",
    "\n",
    "with open (\"relatorio.txt\",\"w\") as arquivo:\n",
    "   arquivo.write(\"ACME Inc.               Uso do espaço em disco pelos usuários.\\n\")\n",
    "   arquivo.write(\"--------------------------------------------------------------\\n\")\n",
    "   arquivo.write(\"Nr.\\tUsuário        \\tEspaço utilizado\\t% do uso\\n\\n\")\n",
    "\n",
    "   for cadaUsuario in usuarios:\n",
    "      percentagem=\"{0:.2f}\".format(round(cadaUsuario[3],2))\n",
    "      arquivo.write(str(cadaUsuario[0])+'\\t'+\"{:<15}\".format(cadaUsuario[1])+'\\t'+\"{:<16}\".format(percentagem)+'MB'+'\\t'+\"{0:.2f}\".format(cadaUsuario[4])+'%'+'\\n')\n",
    "\n",
    "   arquivo.write('\\n\\nEspaço Total Ocupado: ' + \"{0:.2f}\".format(total) + ' MB')\n",
    "   arquivo.write('\\n\\nEspaço médio Ocupado: ' + \"{0:.2f}\".format(media) + ' MB')\n",
    "   arquivo.close()\n",
    "\n",
    "with open (\"relatorio.txt\",\"r\") as arquivo:\n",
    "   print(arquivo.read())"
   ]
  }
 ],
 "metadata": {
  "kernelspec": {
   "display_name": "Python 3",
   "language": "python",
   "name": "python3"
  },
  "language_info": {
   "codemirror_mode": {
    "name": "ipython",
    "version": 3
   },
   "file_extension": ".py",
   "mimetype": "text/x-python",
   "name": "python",
   "nbconvert_exporter": "python",
   "pygments_lexer": "ipython3",
   "version": "3.6.4"
  }
 },
 "nbformat": 4,
 "nbformat_minor": 2
}
