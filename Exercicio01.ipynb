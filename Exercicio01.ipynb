{
 "cells": [
  {
   "cell_type": "markdown",
   "metadata": {},
   "source": [
    "1 - Faça um Programa que peça o raio de um círculo, calcule e mostre sua área."
   ]
  },
  {
   "cell_type": "code",
   "execution_count": 15,
   "metadata": {},
   "outputs": [
    {
     "name": "stdout",
     "output_type": "stream",
     "text": [
      "Digite o raio do círculo: 2\n",
      "A área é:  12.566370614359172\n"
     ]
    }
   ],
   "source": [
    "import math\n",
    "\n",
    "raio = float(input(\"Digite o raio do círculo: \"))\n",
    "area = math.pi * math.pow(raio, 2)\n",
    "print(\"A área é: \", area)"
   ]
  },
  {
   "cell_type": "markdown",
   "metadata": {},
   "source": [
    "2 - Faça um Programa que calcule a área de um quadrado, em seguida mostre o dobro\n",
    "desta área para o usuário."
   ]
  },
  {
   "cell_type": "code",
   "execution_count": 18,
   "metadata": {},
   "outputs": [
    {
     "name": "stdout",
     "output_type": "stream",
     "text": [
      "Digite um lado do quadrado: 2\n",
      "O dobro da área deste quadrado é: 8\n"
     ]
    }
   ],
   "source": [
    "lado = int(input(\"Digite um lado do quadrado: \"))\n",
    "area = lado * lado\n",
    "area_dobrada = area * 2\n",
    "print(\"O dobro da área deste quadrado é:\", area_dobrada)"
   ]
  },
  {
   "cell_type": "markdown",
   "metadata": {},
   "source": [
    "3 - Faça um Programa que pergunte quanto você ganha por hora e o número de horas\n",
    "trabalhadas no mês. Calcule e mostre o total do seu salário no referido mês."
   ]
  },
  {
   "cell_type": "code",
   "execution_count": 19,
   "metadata": {},
   "outputs": [
    {
     "name": "stdout",
     "output_type": "stream",
     "text": [
      "Digite quanto você ganha por hora: 15\n",
      "Digite quantas horas você trabalhou neste mês: 240\n",
      "Seu salário é:  3600.0\n"
     ]
    }
   ],
   "source": [
    "valor_hora = float(input(\"Digite quanto você ganha por hora: \"))\n",
    "horas_trabalhadas = float(input(\"Digite quantas horas você trabalhou neste mês: \"))\n",
    "\n",
    "salario = valor_hora * horas_trabalhadas\n",
    "print(\"Seu salário é: \", salario)"
   ]
  },
  {
   "cell_type": "markdown",
   "metadata": {},
   "source": [
    "4 - Faça um Programa que peça a temperatura em graus Farenheit, transforme e\n",
    "mostre a temperatura em graus Celsius. C = (5 * (F-32) / 9)."
   ]
  },
  {
   "cell_type": "code",
   "execution_count": 20,
   "metadata": {},
   "outputs": [
    {
     "name": "stdout",
     "output_type": "stream",
     "text": [
      "Digite a temperatura em graus Farenheit: 70\n",
      "A temperatura em graus Celsius é:  21.11111111111111\n"
     ]
    }
   ],
   "source": [
    "fahrenheit = float(input(\"Digite a temperatura em graus Fahrenheit: \"))\n",
    "celsius = (5 * (fahrenheit - 32) / 9)\n",
    "\n",
    "print(\"A temperatura em graus Celsius é: \", celsius)"
   ]
  },
  {
   "cell_type": "markdown",
   "metadata": {},
   "source": [
    "5 - Faça um Programa que peça a temperatura em graus Celsius, transforme e mostre\n",
    "em graus Farenheit."
   ]
  },
  {
   "cell_type": "code",
   "execution_count": 23,
   "metadata": {},
   "outputs": [
    {
     "name": "stdout",
     "output_type": "stream",
     "text": [
      "Digite a temperatura em graus Fahrenheit: 21\n",
      "A temperatura em graus Fahrenheit é:  69.80000000000001\n"
     ]
    }
   ],
   "source": [
    "celsius = float(input(\"Digite a temperatura em graus Fahrenheit: \"))\n",
    "fahrenheit = (1.8 * celsius) + 32\n",
    "\n",
    "print(\"A temperatura em graus Fahrenheit é: \", fahrenheit)"
   ]
  },
  {
   "cell_type": "markdown",
   "metadata": {},
   "source": [
    "6 - Faça um Programa que peça 2 números inteiros e um número real. Calcule e\n",
    "mostre:\n",
    "- o produto do dobro do primeiro com metade do segundo .\n",
    "- a soma do triplo do primeiro com o terceiro.\n",
    "- o terceiro elevado ao cubo."
   ]
  },
  {
   "cell_type": "code",
   "execution_count": 25,
   "metadata": {},
   "outputs": [
    {
     "name": "stdout",
     "output_type": "stream",
     "text": [
      "Digite um número inteiro: 10\n",
      "Digite um número inteiro: 20\n",
      "Digite um número real: 15.5\n",
      "\n",
      "Operação 1:  200.0\n",
      "Operação 2:  45.5\n",
      "Operação 3:  3723.875\n"
     ]
    }
   ],
   "source": [
    "import math\n",
    "\n",
    "int1 = int(input(\"Digite um número inteiro: \"))\n",
    "int2 = int(input(\"Digite um número inteiro: \"))\n",
    "real1 = float(input(\"Digite um número real: \"))\n",
    "\n",
    "a = (2 * int1) * (int2 / 2)\n",
    "b = (3 * int1) + real1\n",
    "c = math.pow(real1, 3)\n",
    "\n",
    "print(\"\\nOperação 1: \", a)\n",
    "print(\"Operação 2: \", b)\n",
    "print(\"Operação 3: \", c)"
   ]
  },
  {
   "cell_type": "markdown",
   "metadata": {},
   "source": [
    "7 - João Papo-de-Pescador, homem de bem, comprou um microcomputador para controlar o rendimento diário de seu trabalho. Toda vez que ele traz um peso de peixes maior que o estabelecido pelo regulamento de pesca do estado de São Paulo\n",
    "(50 quilos) deve pagar uma multa de R$ 4,00 por quilo excedente. João precisa que você faça um programa que leia a variável peso (peso de peixes) e verifique se háexcesso. Se houver, gravar na variável excesso e na variável multa o valor da multa que João deverá pagar. Caso contrário mostrar tais variáveis com o conteúdo ZERO."
   ]
  },
  {
   "cell_type": "code",
   "execution_count": 29,
   "metadata": {},
   "outputs": [
    {
     "name": "stdout",
     "output_type": "stream",
     "text": [
      "Informe o peso (em Kg): 52\n",
      "\n",
      "O excesso é de: 2.0 kg\n",
      "E a multa é de: R$ 8.0\n"
     ]
    }
   ],
   "source": [
    "peso_regulado = 50\n",
    "\n",
    "peso = float(input(\"Informe o peso (em Kg): \"))\n",
    "\n",
    "if(peso > peso_regulado):\n",
    "    excesso = peso - peso_regulado\n",
    "    multa = excesso * 4\n",
    "    print(\"\\nO excesso é de:\", excesso, \"kg\")\n",
    "    print(\"E a multa é de: R$\", multa)\n",
    "else:\n",
    "    excesso = 0\n",
    "    multa = 0\n",
    "    print(\"\\nExcesso:\", excesso, \"\\nMulta:\", multa)"
   ]
  },
  {
   "cell_type": "markdown",
   "metadata": {},
   "source": [
    "8 - Faça um Programa que pergunte quanto você ganha por hora e o número de horas trabalhadas no mês. Calcule e mostre o total do seu salário no referido mês, sabendo-se que são descontados 11% para o Imposto de Renda, 8% para o INSS e 5%\n",
    "para o sindicato, faça um programa que nos dê:\n",
    "- salário bruto.\n",
    "- quanto pagou ao INSS.\n",
    "- quanto pagou ao sindicato.\n",
    "- o salário líquido.\n",
    "- calcule os descontos e o salário líquido, conforme a tabela abaixo:\n",
    "+ Salário Bruto : R$\n",
    "- IR (11%) : R$\n",
    "- INSS (8%) : R$\n",
    "- Sindicato ( 5%) : R$\n",
    "= Salário Liquido : R$\n",
    "Obs.: Salário Bruto - Descontos = Salário Líquido."
   ]
  },
  {
   "cell_type": "code",
   "execution_count": 31,
   "metadata": {},
   "outputs": [
    {
     "name": "stdout",
     "output_type": "stream",
     "text": [
      "Digite quanto você ganha por hora: 15\n",
      "Digite quantas horas você trabalhou neste mês: 240\n",
      "\n",
      "Seu salário é:  2736.0\n"
     ]
    }
   ],
   "source": [
    "valor_hora = float(input(\"Digite quanto você ganha por hora: \"))\n",
    "horas_trabalhadas = float(input(\"Digite quantas horas você trabalhou neste mês: \"))\n",
    "\n",
    "salario_bruto = valor_hora * horas_trabalhadas\n",
    "ir = salario_bruto * 0.11\n",
    "inss = salario_bruto * 0.08\n",
    "sindicato = salario_bruto * 0.05\n",
    "\n",
    "salario_liquido = salario_bruto - (ir + inss + sindicato)\n",
    "\n",
    "print(\"\\nSeu salário é: \", salario_liquido)"
   ]
  },
  {
   "cell_type": "markdown",
   "metadata": {},
   "source": [
    "9 - Faça um programa que leia 2 strings e informe o conteúdo delas seguido do seu comprimento. Informe também se as duas strings possuem o mesmo comprimento e são iguais ou diferentes no conteúdo.\n",
    "Exemplo:\n",
    "String 1: Brasil Hexa 2018\n",
    "String 2: Brasil! Hexa 2018!\n",
    "Tamanho de \"Brasil Hexa 2018\": 16 caracteres\n",
    "Tamanho de \"Brasil! Hexa 2018!\": 18 caracteres\n",
    "As duas strings são de tamanhos diferentes.\n",
    "As duas strings possuem conteúdo diferente."
   ]
  },
  {
   "cell_type": "code",
   "execution_count": 45,
   "metadata": {},
   "outputs": [
    {
     "name": "stdout",
     "output_type": "stream",
     "text": [
      "Digite uma frase: Teste\n",
      "Digite uma frase: Teste\n",
      "\n",
      "\n",
      "Teste  Comprimento: 5\n",
      "Teste  Comprimento: 5\n",
      "As strings são iguais!\n"
     ]
    }
   ],
   "source": [
    "str1 = input(\"Digite uma frase: \")\n",
    "str2 = input(\"Digite uma frase: \")\n",
    "print(\"\\n\")\n",
    "\n",
    "str1_len = len(str1)\n",
    "str2_len = len(str2)\n",
    "\n",
    "print(str1, \" Comprimento:\", str1_len)\n",
    "print(str2, \" Comprimento:\", str2_len)\n",
    "\n",
    "if(str1_len == str2_len and set(str1.split()) == set(str2.split())):\n",
    "    print(\"As strings são iguais!\")"
   ]
  },
  {
   "cell_type": "markdown",
   "metadata": {},
   "source": [
    "10 - Faça um programa que permita ao usuário digitar o seu nome e em seguida mostre o nome do usuário de trás para frente utilizando somente letras maiúsculas.\n",
    "Dica: lembre−se que ao informar o nome o usuário pode digitar letras maiúsculas ou minúsculas. \n",
    "Observação: não use loops."
   ]
  },
  {
   "cell_type": "code",
   "execution_count": 48,
   "metadata": {},
   "outputs": [
    {
     "name": "stdout",
     "output_type": "stream",
     "text": [
      "Digite um nome: Lucas Nagaoka\n",
      "AKOAGAN SACUL\n"
     ]
    }
   ],
   "source": [
    "nome = input(\"Digite um nome: \")\n",
    "nome_invertido = nome[::-1]\n",
    "\n",
    "print(nome_invertido.upper())"
   ]
  },
  {
   "cell_type": "markdown",
   "metadata": {},
   "source": [
    "11 - Faça um programa que solicite a data de nascimento (dd/mm/aaaa) do usuário e imprima a data com o nome do mês por extenso.\n",
    "Data de Nascimento: 29/10/1973 Você nasceu em 29 de Outubro de 1973.\n",
    "Obs.: Não use desvio condicional nem loops."
   ]
  },
  {
   "cell_type": "code",
   "execution_count": 59,
   "metadata": {},
   "outputs": [
    {
     "name": "stdout",
     "output_type": "stream",
     "text": [
      "Digite uma data de nascimento no formato (dd/mm/aaaa): 12/10/1990\n",
      "Vocë nasceu em  12 de October de 1990\n"
     ]
    }
   ],
   "source": [
    "from datetime import datetime\n",
    "import calendar\n",
    "\n",
    "data_string = input(\"Digite uma data de nascimento no formato (dd/mm/aaaa): \")\n",
    "data = datetime.strptime(data_string, '%d/%m/%Y')\n",
    "print(\"Vocë nasceu em \", data.day, \"de\", calendar.month_name[data.month], \"de\", data.year)"
   ]
  },
  {
   "cell_type": "markdown",
   "metadata": {},
   "source": [
    "12 - Leet é uma forma de se escrever o alfabeto latino usando outros símbolos em lugar das letras, como números por exemplo. A própria palavra leet admite muitas variações, como l33t ou 1337. O uso do leet reflete uma subcultura relacionada ao mundo dos jogos de computador e internet, sendo muito usada para confundir os iniciantes e afirmar-se como parte de um grupo. Pesquise sobre as principais formas de traduzir as letras. Depois, faça um programa que peça uma texto e transforme-o para a grafia leet speak.\n",
    "Desafio: não use loops nem desvios condicionais."
   ]
  },
  {
   "cell_type": "code",
   "execution_count": 63,
   "metadata": {},
   "outputs": [
    {
     "name": "stdout",
     "output_type": "stream",
     "text": [
      "Digite alguma frase: Lucas testando\n",
      "luc45 73574nd0\n"
     ]
    }
   ],
   "source": [
    "leet = (('a', '4'), ('e', '3'), ('i', '1'), ('o', '0'), ('s', '5'), ('t', '7'))\n",
    "\n",
    "texto = input(\"Digite alguma frase: \")\n",
    "novo_texto = texto.lower()\n",
    "\n",
    "for old, new in leet:\n",
    "    novo_texto = novo_texto.replace(old, new)\n",
    "\n",
    "print(novo_texto)"
   ]
  }
 ],
 "metadata": {
  "kernelspec": {
   "display_name": "Python 3",
   "language": "python",
   "name": "python3"
  },
  "language_info": {
   "codemirror_mode": {
    "name": "ipython",
    "version": 3
   },
   "file_extension": ".py",
   "mimetype": "text/x-python",
   "name": "python",
   "nbconvert_exporter": "python",
   "pygments_lexer": "ipython3",
   "version": "3.6.4"
  }
 },
 "nbformat": 4,
 "nbformat_minor": 2
}
