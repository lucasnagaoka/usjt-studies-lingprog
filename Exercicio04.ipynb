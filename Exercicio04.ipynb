{
 "cells": [
  {
   "cell_type": "markdown",
   "metadata": {},
   "source": [
    "1 - Menor de dois pares: Escreva uma função que retorne o menor de dois números dados se ambos os números forem pares, mas retorna o maior se um dos dois for ímpar. \n",
    "Exemplo:\n",
    "menor_de_dois_pares(2,4) --> 2\n",
    "menor_de_dois_pares (2,5) --> 5"
   ]
  },
  {
   "cell_type": "code",
   "execution_count": 51,
   "metadata": {},
   "outputs": [
    {
     "data": {
      "text/plain": [
       "5"
      ]
     },
     "execution_count": 51,
     "metadata": {},
     "output_type": "execute_result"
    }
   ],
   "source": [
    "def menor_entre_dois_pares(num1, num2):\n",
    "    if (num1 % 2 == 0 and num2 % 2 == 0):\n",
    "        menor = min(num1, num2)\n",
    "        numero = menor\n",
    "    else:\n",
    "        maior = max(num1, num2)\n",
    "        numero = maior\n",
    "    \n",
    "    return numero\n",
    "\n",
    "menor_entre_dois_pares(2, 4)\n",
    "menor_entre_dois_pares(2, 5) "
   ]
  },
  {
   "cell_type": "markdown",
   "metadata": {},
   "source": [
    "2 - Mesma letra: Escreva uma função que receba uma string com duas palavras e retorne True se ambas palavras começarem com a mesma letra. Exemplo:\n",
    "mesma_letra('Cão covarde') -> True\n",
    "mesma_letra('Vira Lata') -> False"
   ]
  },
  {
   "cell_type": "code",
   "execution_count": 19,
   "metadata": {},
   "outputs": [
    {
     "data": {
      "text/plain": [
       "True"
      ]
     },
     "execution_count": 19,
     "metadata": {},
     "output_type": "execute_result"
    }
   ],
   "source": [
    "def mesma_letra(frase):\n",
    "    a, b = frase.split(' ')\n",
    "    inicial1 = a[0].lower()\n",
    "    inicial2 = b[0].lower()\n",
    "    \n",
    "    for i in inicial1:\n",
    "        if i in inicial2:\n",
    "            return True\n",
    "        return False\n",
    "\n",
    "mesma_letra('Cão covarde')"
   ]
  },
  {
   "cell_type": "markdown",
   "metadata": {},
   "source": [
    "3 - Mestre Yoda: Dada uma sentença, a função deve retornar a sentença com as palavras na ordem reversa. \n",
    "Exemplo:\n",
    "mestre_yoda('Eu estou em casa') --> 'casa em estou Eu'\n",
    "mestre_yoda('Estamos prontos') --> 'prontos Estamos'"
   ]
  },
  {
   "cell_type": "code",
   "execution_count": 28,
   "metadata": {},
   "outputs": [
    {
     "data": {
      "text/plain": [
       "'estou casa em Eu'"
      ]
     },
     "execution_count": 28,
     "metadata": {},
     "output_type": "execute_result"
    }
   ],
   "source": [
    "import random\n",
    "\n",
    "def mestre_yoda(frase):\n",
    "    partes_frase = frase.split(' ')\n",
    "    l = list(partes_frase)\n",
    "    random.shuffle(l)\n",
    "    result = ' '.join(l)\n",
    "    return result\n",
    "\n",
    "mestre_yoda('Eu estou em casa')"
   ]
  },
  {
   "cell_type": "markdown",
   "metadata": {},
   "source": [
    "4 - Tem 33: Faça uma função que retorne True se, dada uma lista de inteiros, houver em alguma posição da lista um 3 do lado de outro 3. \n",
    "Exemplo:\n",
    "tem_33([1,3,3]) --> True\n",
    "tem_33([1,3,1,3]) --> False\n",
    "tem_33([3,1,3]) --> False"
   ]
  },
  {
   "cell_type": "code",
   "execution_count": 85,
   "metadata": {},
   "outputs": [
    {
     "name": "stdout",
     "output_type": "stream",
     "text": [
      "1\n",
      "3\n",
      "3\n"
     ]
    },
    {
     "data": {
      "text/plain": [
       "True"
      ]
     },
     "execution_count": 85,
     "metadata": {},
     "output_type": "execute_result"
    }
   ],
   "source": [
    "def tem_33(numeros):\n",
    "    \n",
    "    for i, index in enumerate(numeros):\n",
    "        print(index)\n",
    "        if index is 3:\n",
    "            if(i - 1 > 0 and numeros[i - 1] is 3):\n",
    "                return True\n",
    "                print(numeros[1], numeros[i -1])\n",
    "    return False\n",
    "    \n",
    "tem_33([1, 3, 3])"
   ]
  },
  {
   "cell_type": "markdown",
   "metadata": {},
   "source": [
    "5 - Blackjack: Faça uma função que receba 3 inteiros entre 1 e 11. Se a soma deles for menor que 21, retorne o valor da soma. Se for mair do que 21 e houver um 11, subtraia 10 da soma antes de apresentar o resultado. Se o valor da soma passar de 21, retorne ‘ESTOUROU’. \n",
    "Exemplo:\n",
    "blackjack(5,6,7) --> 18\n",
    "blackjack(9,9,9) --> 'ESTOUROU'\n",
    "blackjack(9,9,11) --> 19"
   ]
  },
  {
   "cell_type": "code",
   "execution_count": 97,
   "metadata": {},
   "outputs": [
    {
     "data": {
      "text/plain": [
       "18"
      ]
     },
     "execution_count": 97,
     "metadata": {},
     "output_type": "execute_result"
    }
   ],
   "source": [
    "def blackjack(n1, n2, n3):\n",
    "    if (n1 < 1 and n1 > 11) or (n2 < 1 and n2 > 11) or (n3 < 1 and n3 > 11):\n",
    "        return\n",
    "    else:\n",
    "        l = [n1, n2, n3]\n",
    "        soma = sum(l)\n",
    "        if soma < 21:\n",
    "            return soma\n",
    "        elif soma > 21 and (n1 is 11) or (n2 is 11) or (n3 is 11):\n",
    "            soma -= 10\n",
    "        if (soma > 21):\n",
    "            return \"ESTOUROU\"\n",
    "        else:\n",
    "            return soma\n",
    "            \n",
    "blackjack(5,6,7)            "
   ]
  },
  {
   "cell_type": "markdown",
   "metadata": {},
   "source": [
    "6 - Espião: Escreva uma função que receba uma lista de inteiros e retorne True se contém um 007 em ordem, mesmo\n",
    "que não contínuo. \n",
    "Exemplo:\n",
    "espiao([1,2,4,0,0,7,5]) --> True\n",
    "espiao([1,0,2,4,0,5,7]) --> True\n",
    "espiao([1,7,2,4,0,5,0]) --> False"
   ]
  },
  {
   "cell_type": "code",
   "execution_count": 118,
   "metadata": {},
   "outputs": [
    {
     "name": "stdout",
     "output_type": "stream",
     "text": [
      "[1, 7, 2, 4, 0, 5, 0]\n",
      "[0, 0]\n"
     ]
    },
    {
     "data": {
      "text/plain": [
       "False"
      ]
     },
     "execution_count": 118,
     "metadata": {},
     "output_type": "execute_result"
    }
   ],
   "source": [
    "def espiao(numeros):\n",
    "    print(numeros)\n",
    "    \n",
    "    frase = []\n",
    "    \n",
    "    for i, index in enumerate(numeros):\n",
    "        if index is 7 and not frase:\n",
    "            pass\n",
    "        if index is 0 and not frase:\n",
    "            frase.append(index)\n",
    "        elif index is 0 and frase and frase[0] is 0:\n",
    "            frase.append(index)\n",
    "        elif index is 7 and frase and frase[0] is 0 and frase[1] is 0:\n",
    "            frase.append(index)\n",
    "        if frase == [0, 0, 7]:\n",
    "            return True\n",
    "    print(frase)\n",
    "    return False\n",
    "    \n",
    "#espiao([1,2,4,0,0,7,5])\n",
    "espiao([1,7,2,4,0,5,0])"
   ]
  }
 ],
 "metadata": {
  "kernelspec": {
   "display_name": "Python 3",
   "language": "python",
   "name": "python3"
  },
  "language_info": {
   "codemirror_mode": {
    "name": "ipython",
    "version": 3
   },
   "file_extension": ".py",
   "mimetype": "text/x-python",
   "name": "python",
   "nbconvert_exporter": "python",
   "pygments_lexer": "ipython3",
   "version": "3.6.4"
  }
 },
 "nbformat": 4,
 "nbformat_minor": 2
}
