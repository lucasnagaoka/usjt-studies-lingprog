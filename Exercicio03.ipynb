{
 "cells": [
  {
   "cell_type": "markdown",
   "metadata": {},
   "source": [
    "1 - Faça um Programa que peça dois números e imprima o maior deles."
   ]
  },
  {
   "cell_type": "code",
   "execution_count": 15,
   "metadata": {},
   "outputs": [
    {
     "name": "stdout",
     "output_type": "stream",
     "text": [
      "Digite um número aqui 10\n",
      "Digite outro número aqui 33\n",
      "33 é maior que 10\n"
     ]
    }
   ],
   "source": [
    "num1 = int(input('Digite um número aqui '))\n",
    "num2 = int(input('Digite outro número aqui '))\n",
    "\n",
    "if num1 > num2:\n",
    "    print(num1, 'é maior que', num2)\n",
    "elif num2 > num1:\n",
    "    print(num2, 'é maior que', num1)\n",
    "else:\n",
    "    print('Os números são iguais')"
   ]
  },
  {
   "cell_type": "markdown",
   "metadata": {},
   "source": [
    "2 - Faça um Programa que verifique se uma letra digitada é vogal ou consoante."
   ]
  },
  {
   "cell_type": "code",
   "execution_count": 14,
   "metadata": {},
   "outputs": [
    {
     "name": "stdout",
     "output_type": "stream",
     "text": [
      "Digite uma letra a\n",
      "É vogal!\n"
     ]
    }
   ],
   "source": [
    "vogais = ['a', 'e', 'i', 'o', 'u']\n",
    "letra = input('Digite uma letra ')\n",
    "\n",
    "vogal = letra in vogais ##verifica se existe caractere digitado na lsita de vogais\n",
    "if vogal:\n",
    "    print('É vogal!')\n",
    "else:\n",
    "    print('É consoante!')"
   ]
  },
  {
   "cell_type": "markdown",
   "metadata": {},
   "source": [
    "3 - Faça um programa para a leitura de duas notas parciais de um aluno. O programa \n",
    "deve calcular a média alcançada por aluno e apresentar:\n",
    "- A mensagem \"Aprovado\", se a média alcançada for maior ou igual a sete;\n",
    "- A mensagem \"Reprovado\", se a média for menor do que sete;\n",
    "- A mensagem \"Aprovado com Distinção\", se a média for igual a dez."
   ]
  },
  {
   "cell_type": "code",
   "execution_count": 24,
   "metadata": {},
   "outputs": [
    {
     "name": "stdout",
     "output_type": "stream",
     "text": [
      "Digite a primeira nota do aluno 10\n",
      "Digite a segunda nota do aluno 9\n",
      "Aprovado\n"
     ]
    }
   ],
   "source": [
    "nota1 = float(input('Digite a primeira nota do aluno '))\n",
    "nota2 = float(input('Digite a segunda nota do aluno '))\n",
    "media = (nota1 + nota2) / 2\n",
    "\n",
    "if media >= 7 and media < 10:\n",
    "    print('Aprovado')\n",
    "elif media < 7 and media >= 0:\n",
    "    print('Reprovado')\n",
    "elif media == 10:\n",
    "    print('Aprovado com Distinção')\n",
    "else:\n",
    "    print('Nota inválida. Digite novamente.')"
   ]
  },
  {
   "cell_type": "markdown",
   "metadata": {},
   "source": [
    "4 - Faça um Programa que leia três números e mostre-os em ordem decrescente."
   ]
  },
  {
   "cell_type": "code",
   "execution_count": 34,
   "metadata": {},
   "outputs": [
    {
     "name": "stdout",
     "output_type": "stream",
     "text": [
      "Digite um número: 10\n",
      "Digite outro número: 20\n",
      "Digite outro número: 30\n",
      "30 20 10\n"
     ]
    }
   ],
   "source": [
    "num1 = int(input('Digite um número: '))\n",
    "num2 = int(input('Digite outro número: '))\n",
    "num3 = int(input('Digite outro número: '))\n",
    "\n",
    "lista = [num1, num2, num3]\n",
    "\n",
    "maior = max(lista)\n",
    "lista.remove(maior)\n",
    "menor = min(lista)\n",
    "lista.remove(menor)\n",
    "\n",
    "print(maior, lista[0], menor)"
   ]
  },
  {
   "cell_type": "markdown",
   "metadata": {},
   "source": [
    "5 - As Organizações Tabajara resolveram dar um aumento de salário aos seus colaboradores e lhe contrataram para desenvolver o programa que calculará os reajustes.\n",
    "Faça um programa que recebe o salário de um colaborador e o reajuste segundo o seguinte critério, baseado no salário atual:\n",
    "- salários até RS 280,00 (incluindo) : aumento de 20%\n",
    "- salários entre RS 280,00 e RS 700,00 : aumento de 15%\n",
    "- salários entre RS 700,00 e RS 1500,00 : aumento de 10%\n",
    "- salários de RS 1500,00 em diante : aumento de 5% \n",
    "\n",
    "Após o aumento ser realizado, informe na tela:\n",
    "- o salário antes do reajuste;\n",
    "- o percentual de aumento aplicado;\n",
    "- o valor do aumento;\n",
    "- o novo salário, após o aumento."
   ]
  },
  {
   "cell_type": "code",
   "execution_count": 56,
   "metadata": {},
   "outputs": [
    {
     "name": "stdout",
     "output_type": "stream",
     "text": [
      "Digite o salário do colaborador aqui: 1500\n",
      "\n",
      "Salário antes do reajuste:  1500.0\n",
      "Percentual de aumento aplicado: 5.0 %\n",
      "Valor do aumento: 75.0\n",
      "Novo salário após o reajuste: 1575.0\n"
     ]
    }
   ],
   "source": [
    "salario = float(input('Digite o salário do colaborador aqui: '))\n",
    "\n",
    "if salario < 0:\n",
    "    print('Valor inválido. Digite novamente')\n",
    "elif salario <= 280:\n",
    "    percentual = .2\n",
    "elif salario > 280 and salario < 700:\n",
    "    percentual = .15\n",
    "elif salario >= 700 and salario < 1500:\n",
    "    percentual = .10\n",
    "else:\n",
    "    percentual = .05\n",
    "    \n",
    "reajuste = salario * percentual\n",
    "novo_salario = salario + reajuste\n",
    "diferenca = novo_salario - salario\n",
    "\n",
    "if salario > 0:\n",
    "    print('\\nSalário antes do reajuste: ', salario)\n",
    "    print('Percentual de aumento aplicado:', percentual * 100, '%')\n",
    "    print('Valor do aumento:', diferenca)\n",
    "    print('Novo salário após o reajuste:', novo_salario)"
   ]
  },
  {
   "cell_type": "markdown",
   "metadata": {},
   "source": [
    "6 - Faça um Programa que leia um número e exiba o dia correspondente da semana. \n",
    "(1 - Domingo, 2 - Segunda, etc.), se digitar outro valor deve aparecer valor inválido."
   ]
  },
  {
   "cell_type": "code",
   "execution_count": 6,
   "metadata": {},
   "outputs": [
    {
     "name": "stdout",
     "output_type": "stream",
     "text": [
      "Digite um número que represente um dia da semana: 2\n",
      "Segunda\n"
     ]
    }
   ],
   "source": [
    "dia_numero = int(input('Digite um número que represente um dia da semana: '))\n",
    "\n",
    "semana = {1 : 'Domingo', 2 : 'Segunda', 3 : 'Terça', 4 : 'Quarta', 5 : 'Quinta', 6 : 'Sexta', 7 : 'Sábado'}\n",
    "\n",
    "if dia_numero in semana:\n",
    "    print(semana[dia_numero])\n",
    "else:\n",
    "    print('Valor inválido')"
   ]
  },
  {
   "cell_type": "markdown",
   "metadata": {},
   "source": [
    "7 - Faça um programa que lê as duas notas parciais obtidas por um aluno numa disciplina ao longo de um semestre, e calcule a sua média. A atribuição de conceitos obedece à tabela abaixo:\n",
    "\n",
    " Média de Aproveitamento Conceito \n",
    " \n",
    " Entre 9.0 e 10.0             A  \n",
    " Entre 7.5 e 9.0              B  \n",
    " Entre 6.0 e 7.5              C  \n",
    " Entre 4.0 e 6.0              D  \n",
    " Entre 4.0 e zero             E \n",
    "\n",
    "O algoritmo deve mostrar na tela as notas, a média, o conceito correspondente e a \n",
    "mensagem “APROVADO” se o conceito for A, B ou C ou “REPROVADO” se o conceito \n",
    "for D ou E."
   ]
  },
  {
   "cell_type": "code",
   "execution_count": 8,
   "metadata": {},
   "outputs": [
    {
     "name": "stdout",
     "output_type": "stream",
     "text": [
      "Digite a primeira nota do aluno 5\n",
      "Digite a segunda nota do aluno 5\n",
      "Nota 1: 5.0\n",
      "Nota 2: 5.0\n",
      "Média: 5.0\n",
      "Conceito: D\n",
      "REPROVADO\n"
     ]
    }
   ],
   "source": [
    "nota1 = float(input('Digite a primeira nota do aluno '))\n",
    "nota2 = float(input('Digite a segunda nota do aluno '))\n",
    "media = (nota1 + nota2) / 2\n",
    "\n",
    "if media > 9.0 and media <=10.0:\n",
    "    conceito = 'A'\n",
    "elif media > 7.5 and media <= 9.0:\n",
    "    conceito = 'B'\n",
    "elif media > 6 and media <= 7.5:\n",
    "    conceito = 'C'\n",
    "elif media > 4 and media <= 6:\n",
    "    conceito = 'D'\n",
    "else:\n",
    "    conceito = 'E'\n",
    "    \n",
    "print('Nota 1:', nota1)\n",
    "print('Nota 2:', nota2)\n",
    "print('Média:', media)\n",
    "print('Conceito:', conceito)\n",
    "if conceito == 'A' or conceito == 'b' or conceito == 'c':\n",
    "    print('APROVADO')\n",
    "else:\n",
    "    print('REPROVADO')"
   ]
  },
  {
   "cell_type": "markdown",
   "metadata": {},
   "source": [
    "8 - Faça um Programa que peça os 3 lados de um triângulo. O programa deverá informar se os valores podem ser um triângulo. Indique, caso os lados formem um triângulo, se o mesmo é: equilátero, isósceles ou escaleno.\n",
    "\n",
    "Dicas:\n",
    "- Três lados formam um triângulo quando a soma de quaisquer dois lados for maior que o terceiro;\n",
    "- Triângulo Equilátero: três lados iguais;\n",
    "- Triângulo Isósceles: quaisquer dois lados iguais;\n",
    "- Triângulo Escaleno: três lados diferentes;"
   ]
  },
  {
   "cell_type": "code",
   "execution_count": 17,
   "metadata": {},
   "outputs": [
    {
     "name": "stdout",
     "output_type": "stream",
     "text": [
      "Digite o tamanho do lado A do triângulo: 2\n",
      "Digite o tamanho do lado B do triângulo: 3\n",
      "Digite o tamanho do lado C do triângulo: 3\n",
      "\n",
      "É um triângulo!\n",
      "Triângulo isósceles\n"
     ]
    }
   ],
   "source": [
    "ladoA = int(input('Digite o tamanho do lado A do triângulo: '))\n",
    "ladoB = int(input('Digite o tamanho do lado B do triângulo: '))\n",
    "ladoC = int(input('Digite o tamanho do lado C do triângulo: '))\n",
    "\n",
    "if ladoA + ladoB > ladoC or ladoA + ladoC > ladoB or ladoB + ladoC > ladoA:\n",
    "    print('\\nÉ um triângulo!')\n",
    "    \n",
    "    if ladoA == ladoB and ladoA == ladoC:\n",
    "        print('Triângulo equilátero')\n",
    "    elif ((ladoA == ladoB) or (ladoB == ladoC) or (ladoC == ladoA)):\n",
    "        print('Triângulo isósceles')\n",
    "    else:\n",
    "        print('Triângulo escaleno')\n",
    "else:\n",
    "    print('\\nNão é um triângulo!')"
   ]
  },
  {
   "cell_type": "markdown",
   "metadata": {},
   "source": [
    "9 - Faça um programa que calcule as raízes de uma equação do segundo grau, na forma ax2 + bx + c. O programa deverá pedir os valores de a, b e c e fazer as consistências, informando ao usuário nas seguintes situações:\n",
    "- Se o usuário informar o valor de A igual a zero, a equação não é do segundo grau e o programa não deve pedir os demais valores, sendo encerrado;\n",
    "- Se o delta calculado for negativo, a equação não possui raizes reais. Informe ao usuário e encerre o programa;\n",
    "- Se o delta calculado for igual a zero a equação possui apenas uma raiz real; informe-a ao usuário;\n",
    "- Se o delta for positivo, a equação possui duas raiz reais; informe-as ao usuário;"
   ]
  },
  {
   "cell_type": "code",
   "execution_count": 6,
   "metadata": {},
   "outputs": [
    {
     "name": "stdout",
     "output_type": "stream",
     "text": [
      "Digite o valor de a, de acordo com o formato ax² + bx + c: 1\n",
      "Digite o valor de b, de acordo com o formato ax² + bx + c: -5\n",
      "Digite o valor de c, de acordo com o formato ax² + bx + c: 3\n",
      "\n",
      "A equação possui duas raízes reais: 4.0 e 1.0\n"
     ]
    }
   ],
   "source": [
    "import math\n",
    "\n",
    "a = int(input('Digite o valor de a, de acordo com o formato ax² + bx + c: '))\n",
    "if a == 0:\n",
    "    print('Não é uma equação do segundo grau pois A = 0')\n",
    "    pass\n",
    "else:\n",
    "    b = int(input('Digite o valor de b, de acordo com o formato ax² + bx + c: '))\n",
    "    c = int(input('Digite o valor de c, de acordo com o formato ax² + bx + c: '))\n",
    "\n",
    "    delta = b^2 - 4*a*c\n",
    "    x1 = (-b + int(math.sqrt(delta)))/2*a\n",
    "    x2 = (-b - int(math.sqrt(delta)))/2*a\n",
    "    \n",
    "    if delta < 0:\n",
    "        print('A equação não possui raízes reais')\n",
    "        pass\n",
    "    elif delta == 0:\n",
    "        print('A equação possui apenas uma raiz real:', x1)\n",
    "    else:\n",
    "        print('\\nA equação possui duas raízes reais:', x1, 'e', x2)\n",
    "    "
   ]
  },
  {
   "cell_type": "markdown",
   "metadata": {},
   "source": [
    "10 - Faça um Programa para um caixa eletrônico. O programa deverá perguntar ao usuário o valor do saque e depois informar quantas notas de cada valor serão \n",
    "fornecidas. As notas disponíveis serão as de 1, 5, 10, 50 e 100 reais. O valor mínimo é de 10 reais e o máximo de 600 reais. O programa não deve se preocupar com a quantidade de notas existentes na máquina.\n",
    "\n",
    "- Exemplo 1: Para sacar a quantia de 256 reais, o programa fornece duas notas de 100, uma nota de 50, uma nota de 5 e uma nota de 1;\n",
    "- Exemplo 2: Para sacar a quantia de 399 reais, o programa fornece três notas de 100, uma nota de 50, quatro notas de 10, uma nota de 5 e quatro notas de 1."
   ]
  },
  {
   "cell_type": "code",
   "execution_count": 15,
   "metadata": {},
   "outputs": [
    {
     "name": "stdout",
     "output_type": "stream",
     "text": [
      "Digite o valor do saque: 552\n",
      "Notas de 100:  5\n",
      "Notas de  50:  1\n",
      "Notas de  10:  0\n",
      "Notas de   5:  0\n",
      "Notas de   1:  2\n"
     ]
    }
   ],
   "source": [
    "valor_saque = int(input('Digite o valor do saque: '))\n",
    "\n",
    "if (valor_saque < 10) or (valor_saque > 600):\n",
    "    print('Valor inválido para saque. Tente novamente.')\n",
    "else: \n",
    "    notas100 = int(valor_saque / 100)\n",
    "    notas50 = int((valor_saque - (notas100 * 100)) / 50)\n",
    "    notas10 = int((valor_saque - (notas100 * 100) - (notas50 * 50)) / 10)\n",
    "    notas5 = int((valor_saque - (notas100 * 100) - (notas50 * 50) - (notas10 * 10)) / 5)\n",
    "    notas1 = int(valor_saque - (notas100 * 100) - (notas50 * 50) - (notas10 * 10) - (notas5 * 5))\n",
    "    \n",
    "    print ('Notas de 100: ', notas100)\n",
    "    print ('Notas de  50: ', notas50)\n",
    "    print ('Notas de  10: ', notas10)\n",
    "    print ('Notas de   5: ', notas5)\n",
    "    print ('Notas de   1: ', notas1)"
   ]
  },
  {
   "cell_type": "markdown",
   "metadata": {},
   "source": [
    "11 - Faça um programa que faça 5 perguntas para uma pessoa sobre um crime. As perguntas são:\n",
    "- \"Telefonou para a vítima?\"\n",
    "- \"Esteve no local do crime?\"\n",
    "- \"Mora perto da vítima?\"\n",
    "- \"Devia para a vítima?\"\n",
    "- \"Já trabalhou com a vítima?\" \n",
    "\n",
    "O programa deve no final emitir uma classificação sobre a participação da pessoa no crime. Se a pessoa responder positivamente a 2 questões ela deve ser classificada como \"Suspeita\", entre 3 e 4 como \"Cúmplice\" e 5 como \"Assassino\". Caso contrário, ele será classificado como \"Inocente\"."
   ]
  },
  {
   "cell_type": "code",
   "execution_count": 2,
   "metadata": {},
   "outputs": [
    {
     "name": "stdout",
     "output_type": "stream",
     "text": [
      "Responda as questões a seguir com \"sim\" ou \"não\"\n",
      "Telefonou para a vítima? Sim\n",
      "Esteve no local do crime? não\n",
      "Mora perto da vítima? não\n",
      "Devia para a vítima? não\n",
      "Já trabalhou com a vítima? sim\n",
      "\n",
      "\n",
      "Suspeito\n"
     ]
    }
   ],
   "source": [
    "print('Responda as questões a seguir com \"sim\" ou \"não\"')\n",
    "\n",
    "pg1 = input('Telefonou para a vítima? ').lower()\n",
    "pg2 = input('Esteve no local do crime? ').lower()\n",
    "pg3 = input('Mora perto da vítima? ').lower()\n",
    "pg4 = input('Devia para a vítima? ').lower()\n",
    "pg5 = input('Já trabalhou com a vítima? ').lower()\n",
    "\n",
    "classificacao = 0\n",
    "\n",
    "if (pg1 == 'sim'):\n",
    "    classificacao += 1\n",
    "\n",
    "if (pg2 == 'sim'):\n",
    "    classificacao += 1\n",
    "\n",
    "if (pg3 == 'sim'):\n",
    "    classificacao += 1\n",
    "\n",
    "if (pg4 == 'sim'):\n",
    "    classificacao += 1\n",
    "\n",
    "if (pg5 == 'sim'):\n",
    "    classificacao += 1\n",
    "\n",
    "print('\\n')\n",
    "if (classificacao < 2):\n",
    "    print ('Inocente')\n",
    "elif (classificacao == 2):\n",
    "    print ('Suspeito')\n",
    "elif (classificacao <= 4):\n",
    "    print ('Cúmplice')\n",
    "else:\n",
    "    print ('Assassino')"
   ]
  },
  {
   "cell_type": "markdown",
   "metadata": {},
   "source": [
    "12 -Uma fruteira está vendendo frutas com a seguinte tabela de preços:\n",
    "\n",
    "Até 5 Kg           Acima de 5 Kg\n",
    "Morango         R$ 2,50 por Kg          R$ 2,20 por Kg\n",
    "Maçã            R$ 1,80 por Kg          R$ 1,50 por Kg\n",
    "\n",
    "Se o cliente comprar mais de 8 Kg em frutas ou o valor total da compra ultrapassar R$ 25,00, receberá ainda um desconto de 10% sobre este total. Escreva um algoritmo para ler a quantidade (em Kg) de morangos e a quantidade (em Kg) de maças adquiridas e escreva o valor a ser pago pelo cliente."
   ]
  },
  {
   "cell_type": "code",
   "execution_count": 14,
   "metadata": {},
   "outputs": [
    {
     "name": "stdout",
     "output_type": "stream",
     "text": [
      "Digite a quantidade (em Kg) de morangos comprados: 10\n",
      "Digite a quantidade (em Kg) de maçãs compradas: 5\n",
      "\n",
      "Valor a pagar: R$ 27.90\n"
     ]
    }
   ],
   "source": [
    "morangos = float(input('Digite a quantidade (em Kg) de morangos comprados: '))\n",
    "macas = float(input('Digite a quantidade (em Kg) de maçãs compradas: '))\n",
    "\n",
    "if (morangos <= 5):\n",
    "    valor_morangos = morangos * 2.5\n",
    "else:\n",
    "    valor_morangos = morangos * 2.2\n",
    "\n",
    "if (macas <= 5):\n",
    "    valor_macas = macas * 1.8\n",
    "else:\n",
    "    valor_macas = macas * 1.5\n",
    "\n",
    "valor = valor_morangos + valor_macas\n",
    "\n",
    "if ((morangos + macas) >= 8) or (valor >= 25):\n",
    "    valor*=0.9\n",
    "\n",
    "print ('\\nValor a pagar: R$', \"{0:.2f}\".format(valor))"
   ]
  },
  {
   "cell_type": "markdown",
   "metadata": {},
   "source": [
    "13 - Faça um programa que peça uma nota, entre zero e dez. Mostre uma mensagem caso o valor seja inválido e continue pedindo até que o usuário informe um valor válido."
   ]
  },
  {
   "cell_type": "code",
   "execution_count": 17,
   "metadata": {},
   "outputs": [
    {
     "name": "stdout",
     "output_type": "stream",
     "text": [
      "Informe uma nota (de zero a dez): -3\n",
      "Nota inválida\n",
      "Informe uma nota (de zero a dez): 34\n",
      "Nota inválida\n",
      "Informe uma nota (de zero a dez): 2\n"
     ]
    }
   ],
   "source": [
    "nota = -1\n",
    "\n",
    "while nota < 0 or nota > 10:\n",
    "    nota = int(input('Informe uma nota (de zero a dez): '))\n",
    "    if (nota < 0) or (nota > 10):\n",
    "        print ('Nota inválida')"
   ]
  },
  {
   "cell_type": "markdown",
   "metadata": {},
   "source": [
    "13(2) - Faça um programa que leia e valide as seguintes informações:\n",
    "- Nome: maior que 3 caracteres;\n",
    "- Idade: entre 0 e 150;\n",
    "- Salário: maior que zero;\n",
    "- Sexo: 'f' ou 'm';\n",
    "- Estado Civil: 's', 'c', 'v', 'd';"
   ]
  },
  {
   "cell_type": "code",
   "execution_count": 3,
   "metadata": {},
   "outputs": [
    {
     "name": "stdout",
     "output_type": "stream",
     "text": [
      "Digite um nome: Lu\n",
      "Nome inválido. O nome deve ter mais de três caracteres!\n",
      "Digite um nome: Lucas\n",
      "Digite a idade: -3\n",
      "Idade inválida. A idade deve estar entre 0 e 150 anos!\n",
      "Digite a idade: 20\n",
      "Digite o salário: 0\n",
      "Salário inválido. O salário deve ser maior que zero!\n",
      "Digite o salário: 100\n",
      "Digite o sexo: K\n",
      "Sexo inválido. O sexo deve ser M (masculino) ou F (feminino)!\n",
      "Digite o sexo: M\n",
      "Digite o estado civil: J\n",
      "Estado Civil inválido. O Estado Civil deve ser S (solteiro), C (casado), V (viúvo) ou D (divorciado)\n",
      "Digite o estado civil: S\n"
     ]
    }
   ],
   "source": [
    "nome = ''\n",
    "while (len(nome) <= 3):\n",
    "    nome = input('Digite um nome: ')\n",
    "    if (len(nome) <= 3):\n",
    "        print ('Nome inválido. O nome deve ter mais de três caracteres!')\n",
    "\n",
    "idade = -1\n",
    "while (idade < 0) or (idade > 150):\n",
    "    idade = int(input('Digite a idade: '))\n",
    "    if (idade < 0) or (idade > 150):\n",
    "        print ('Idade inválida. A idade deve estar entre 0 e 150 anos!')\n",
    "\n",
    "salario = 0\n",
    "while (salario <= 0):\n",
    "    salario = float(input('Digite o salário: '))\n",
    "    if (salario <= 0):\n",
    "        print ('Salário inválido. O salário deve ser maior que zero!')\n",
    "\n",
    "sexo = ''\n",
    "while (sexo != 'F') and (sexo != 'M'):\n",
    "    sexo = input('Digite o sexo: ').upper()\n",
    "    if (sexo != 'F') and (sexo != 'M'):\n",
    "        print ('Sexo inválido. O sexo deve ser M (masculino) ou F (feminino)!')\n",
    "\n",
    "estado_civil = 'R'\n",
    "while ('SCVD'.find(estado_civil) < 0):\n",
    "    estado_civil = input('Digite o estado civil: ').upper()\n",
    "    if ('SCVD'.find(estado_civil) < 0):\n",
    "        print ('Estado Civil inválido. O Estado Civil deve ser S (solteiro), C (casado), V (viúvo) ou D (divorciado)')"
   ]
  },
  {
   "cell_type": "markdown",
   "metadata": {},
   "source": [
    "14 - Faça um programa que leia 5 números e informe o maior número."
   ]
  },
  {
   "cell_type": "code",
   "execution_count": 2,
   "metadata": {},
   "outputs": [
    {
     "name": "stdout",
     "output_type": "stream",
     "text": [
      "Digite um número: 10\n",
      "Digite um número: 2\n",
      "Digite um número: 5\n",
      "Digite um número: 7\n",
      "Digite um número: 78\n",
      "\n",
      "O maior número digitado é: 78\n"
     ]
    }
   ],
   "source": [
    "maior = int(input('Digite um número: '))\n",
    "\n",
    "for i in range(0, 4):\n",
    "    numero = int(input('Digite um número: '))\n",
    "    \n",
    "    if(numero > maior):\n",
    "        maior = numero\n",
    "\n",
    "print ('\\nO maior número digitado é:', maior)"
   ]
  },
  {
   "cell_type": "markdown",
   "metadata": {},
   "source": [
    "15 - Faça um programa que leia 5 números e informe a soma e a média dos números."
   ]
  },
  {
   "cell_type": "code",
   "execution_count": 4,
   "metadata": {},
   "outputs": [
    {
     "name": "stdout",
     "output_type": "stream",
     "text": [
      "Digite um número: 10\n",
      "Digite um número: 20\n",
      "Digite um número: 30\n",
      "Digite um número: 40\n",
      "Digite um número: 50\n",
      "\n",
      "Soma: 150\n",
      "Média 30.0\n"
     ]
    }
   ],
   "source": [
    "soma = 0\n",
    "\n",
    "for i in range(0, 5):\n",
    "    numero = int(input('Digite um número: '))\n",
    "    soma += numero\n",
    "\n",
    "print ('\\nSoma:', soma)\n",
    "print ('Média', (soma / 5.0))"
   ]
  },
  {
   "cell_type": "markdown",
   "metadata": {},
   "source": [
    "16 - Faça um programa que imprima na tela apenas os números ímpares entre 1 e 50."
   ]
  },
  {
   "cell_type": "code",
   "execution_count": 5,
   "metadata": {},
   "outputs": [
    {
     "name": "stdout",
     "output_type": "stream",
     "text": [
      "1\n",
      "3\n",
      "5\n",
      "7\n",
      "9\n",
      "11\n",
      "13\n",
      "15\n",
      "17\n",
      "19\n",
      "21\n",
      "23\n",
      "25\n",
      "27\n",
      "29\n",
      "31\n",
      "33\n",
      "35\n",
      "37\n",
      "39\n",
      "41\n",
      "43\n",
      "45\n",
      "47\n",
      "49\n"
     ]
    }
   ],
   "source": [
    "for i in range(0, 50):\n",
    "    if (i % 2 != 0):\n",
    "        print (i)"
   ]
  },
  {
   "cell_type": "markdown",
   "metadata": {},
   "source": [
    "17 - Desenvolva um gerador de tabuada, capaz de gerar a tabuada de qualquer número inteiro entre 1 a 10. O usuário deve informar de qual numero ele deseja ver a tabuada. A saída deve ser conforme o exemplo abaixo:\n",
    "\n",
    "Tabuada de 5:\n",
    "- 5 X 1 = 5\n",
    "- 5 X 2 = 10\n",
    "- ...\n",
    "- 5 X 10 = 50"
   ]
  },
  {
   "cell_type": "code",
   "execution_count": 9,
   "metadata": {},
   "outputs": [
    {
     "name": "stdout",
     "output_type": "stream",
     "text": [
      "Digite o número da tábuada: 8\n",
      "\n",
      "Tábuada do 8 :\n",
      "8 X 0 = 0\n",
      "8 X 1 = 8\n",
      "8 X 2 = 16\n",
      "8 X 3 = 24\n",
      "8 X 4 = 32\n",
      "8 X 5 = 40\n",
      "8 X 6 = 48\n",
      "8 X 7 = 56\n",
      "8 X 8 = 64\n",
      "8 X 9 = 72\n",
      "8 X 10 = 80\n"
     ]
    }
   ],
   "source": [
    "numero = int(input('Digite o número da tábuada: '))\n",
    "\n",
    "print ('\\nTábuada do', numero, ':')\n",
    "for i in range(0, 11):\n",
    "    print (numero, 'X', i, '=', (numero * i))"
   ]
  },
  {
   "cell_type": "markdown",
   "metadata": {},
   "source": [
    "18 - A série de Fibonacci é formada pela seqüência 1,1,2,3,5,8,13,21,34,55,... Faça um programa capaz de gerar a série até o n−ésimo termo."
   ]
  },
  {
   "cell_type": "code",
   "execution_count": 13,
   "metadata": {},
   "outputs": [
    {
     "name": "stdout",
     "output_type": "stream",
     "text": [
      "Digite até qual termo vai a série de Fibonacci: 10\n",
      "1\n",
      "1\n",
      "2\n",
      "3\n",
      "5\n",
      "8\n",
      "13\n",
      "21\n",
      "34\n",
      "55\n"
     ]
    }
   ],
   "source": [
    "termo = int(input('Digite até qual termo vai a série de Fibonacci: '))\n",
    "\n",
    "primeiro = 1\n",
    "segundo = 1\n",
    "print(primeiro)\n",
    "\n",
    "for i in range(1, termo):\n",
    "    print (segundo)\n",
    "    terceiro = primeiro + segundo\n",
    "    primeiro = segundo\n",
    "    segundo = terceiro"
   ]
  },
  {
   "cell_type": "markdown",
   "metadata": {},
   "source": [
    "19 - Faça um programa que calcule o fatorial de um número inteiro fornecido pelo usuário. Ex.: 5!=5.4.3.2.1=120"
   ]
  },
  {
   "cell_type": "code",
   "execution_count": 17,
   "metadata": {},
   "outputs": [
    {
     "name": "stdout",
     "output_type": "stream",
     "text": [
      "Digite um número inteiro para obter seu fatorial: 7\n",
      "5040\n"
     ]
    }
   ],
   "source": [
    "numero = int(input('Digite um número inteiro para obter seu fatorial: '))\n",
    "\n",
    "fatorial = 1\n",
    "for i in range(1, numero + 1):\n",
    "    fatorial *= i\n",
    "\n",
    "print (fatorial)"
   ]
  },
  {
   "cell_type": "markdown",
   "metadata": {},
   "source": [
    "20 - O Sr. Manoel Joaquim possui uma grande loja de artigos de R$ 1,99, com cerca de 10 caixas. Para agilizar o cálculo de quanto cada cliente deve pagar ele desenvolveu um tabela que contém o número de itens que o cliente comprou e ao lado o valor da conta. Desta forma a atendente do caixa precisa apenas contar quantos itens o cliente está levando e olhar na tabela de preços. Você foi contratado para desenvolver o programa que monta esta tabela de preços, que conterá os preços de 1 até 50 produtos, conforme o exemplo abaixo:\n",
    "\n",
    "Lojas Quase Dois \n",
    "\n",
    "Tabela de preços\n",
    "- 1 - RS 1.99\n",
    "- 2 - RS 3.98\n",
    "- ...\n",
    "- 50 - RS 99.50"
   ]
  },
  {
   "cell_type": "code",
   "execution_count": 5,
   "metadata": {},
   "outputs": [
    {
     "name": "stdout",
     "output_type": "stream",
     "text": [
      "Tabela de preços\n",
      "\n",
      " 1 - R$ 1.99\n",
      " 2 - R$ 3.98\n",
      " 3 - R$ 5.97\n",
      " 4 - R$ 7.96\n",
      " 5 - R$ 9.95\n",
      " 6 - R$ 11.94\n",
      " 7 - R$ 13.93\n",
      " 8 - R$ 15.92\n",
      " 9 - R$ 17.91\n",
      "10 - R$ 19.90\n",
      "11 - R$ 21.89\n",
      "12 - R$ 23.88\n",
      "13 - R$ 25.87\n",
      "14 - R$ 27.86\n",
      "15 - R$ 29.85\n",
      "16 - R$ 31.84\n",
      "17 - R$ 33.83\n",
      "18 - R$ 35.82\n",
      "19 - R$ 37.81\n",
      "20 - R$ 39.80\n",
      "21 - R$ 41.79\n",
      "22 - R$ 43.78\n",
      "23 - R$ 45.77\n",
      "24 - R$ 47.76\n",
      "25 - R$ 49.75\n",
      "26 - R$ 51.74\n",
      "27 - R$ 53.73\n",
      "28 - R$ 55.72\n",
      "29 - R$ 57.71\n",
      "30 - R$ 59.70\n",
      "31 - R$ 61.69\n",
      "32 - R$ 63.68\n",
      "33 - R$ 65.67\n",
      "34 - R$ 67.66\n",
      "35 - R$ 69.65\n",
      "36 - R$ 71.64\n",
      "37 - R$ 73.63\n",
      "38 - R$ 75.62\n",
      "39 - R$ 77.61\n",
      "40 - R$ 79.60\n",
      "41 - R$ 81.59\n",
      "42 - R$ 83.58\n",
      "43 - R$ 85.57\n",
      "44 - R$ 87.56\n",
      "45 - R$ 89.55\n",
      "46 - R$ 91.54\n",
      "47 - R$ 93.53\n",
      "48 - R$ 95.52\n",
      "49 - R$ 97.51\n",
      "50 - R$ 99.50\n"
     ]
    }
   ],
   "source": [
    "print ('Tabela de preços\\n')\n",
    "\n",
    "for i in range(1, 51):\n",
    "    print ('%2d - R$ %.2f' % (i, i * 1.99))"
   ]
  },
  {
   "cell_type": "markdown",
   "metadata": {},
   "source": [
    "21 - O Sr. Manoel Joaquim acaba de adquirir uma panificadora e pretende implantar a metodologia da tabelinha, que já é um sucesso na sua loja de 1,99. Você foi contratado para desenvolver o programa que monta a tabela de preços de pães, de 1 até 50 pães, a partir do preço do pão informado pelo usuário, conforme o exemplo abaixo:\n",
    "\n",
    "Preço do pão: R$ 0.18\n",
    "Panificadora Pão de Ontem \n",
    "\n",
    "Tabela de preços\n",
    "- 1 - RS 0.18\n",
    "- 2 - RS 0.36\n",
    "- ...\n",
    "- 50 - RS 9.00"
   ]
  },
  {
   "cell_type": "code",
   "execution_count": 7,
   "metadata": {},
   "outputs": [
    {
     "name": "stdout",
     "output_type": "stream",
     "text": [
      "Preço do pão: .99\n",
      "Tabela de preços\n",
      "\n",
      " 1 - R$ 0.99\n",
      " 2 - R$ 1.98\n",
      " 3 - R$ 2.97\n",
      " 4 - R$ 3.96\n",
      " 5 - R$ 4.95\n",
      " 6 - R$ 5.94\n",
      " 7 - R$ 6.93\n",
      " 8 - R$ 7.92\n",
      " 9 - R$ 8.91\n",
      "10 - R$ 9.90\n",
      "11 - R$ 10.89\n",
      "12 - R$ 11.88\n",
      "13 - R$ 12.87\n",
      "14 - R$ 13.86\n",
      "15 - R$ 14.85\n",
      "16 - R$ 15.84\n",
      "17 - R$ 16.83\n",
      "18 - R$ 17.82\n",
      "19 - R$ 18.81\n",
      "20 - R$ 19.80\n",
      "21 - R$ 20.79\n",
      "22 - R$ 21.78\n",
      "23 - R$ 22.77\n",
      "24 - R$ 23.76\n",
      "25 - R$ 24.75\n",
      "26 - R$ 25.74\n",
      "27 - R$ 26.73\n",
      "28 - R$ 27.72\n",
      "29 - R$ 28.71\n",
      "30 - R$ 29.70\n",
      "31 - R$ 30.69\n",
      "32 - R$ 31.68\n",
      "33 - R$ 32.67\n",
      "34 - R$ 33.66\n",
      "35 - R$ 34.65\n",
      "36 - R$ 35.64\n",
      "37 - R$ 36.63\n",
      "38 - R$ 37.62\n",
      "39 - R$ 38.61\n",
      "40 - R$ 39.60\n",
      "41 - R$ 40.59\n",
      "42 - R$ 41.58\n",
      "43 - R$ 42.57\n",
      "44 - R$ 43.56\n",
      "45 - R$ 44.55\n",
      "46 - R$ 45.54\n",
      "47 - R$ 46.53\n",
      "48 - R$ 47.52\n",
      "49 - R$ 48.51\n",
      "50 - R$ 49.50\n"
     ]
    }
   ],
   "source": [
    "preco = float(input('Preço do pão: '))\n",
    "\n",
    "print('Tabela de preços\\n')\n",
    "for i in range(1, 51):\n",
    "    print ('%2d - R$ %.2f' % (i, i * preco))"
   ]
  },
  {
   "cell_type": "markdown",
   "metadata": {},
   "source": [
    "22 - O Sr. Manoel Joaquim expandiu seus negócios para além dos negócios de 1,99 e agora possui uma loja de conveniências. Faça um programa que implemente uma caixa registradora rudimentar. O programa deverá receber um número desconhecido de valores referentes aos preços das mercadorias. Um valor zero deve ser informado pelo operador para indicar o final da compra. O programa deve então mostrar o total da compra e perguntar o valor em dinheiro que o cliente forneceu, para então calcular e mostrar o valor do troco. Após esta operação, o programa deverá voltar ao ponto inicial, para registrar a próxima compra.\n",
    "A saída deve ser conforme o exemplo abaixo:\n",
    "\n",
    "Lojas Tabajara \n",
    "- Produto 1: RS 2.20\n",
    "- Produto 2: RS 5.80\n",
    "- Produto 3: RS 0\n",
    "- Total: RS 9.00\n",
    "- Dinheiro: RS 20.00\n",
    "- Troco: RS 11.00\n",
    "- ..."
   ]
  },
  {
   "cell_type": "code",
   "execution_count": 2,
   "metadata": {},
   "outputs": [
    {
     "name": "stdout",
     "output_type": "stream",
     "text": [
      "Produto 1: R$ 2\n",
      "Produto 2: R$ 3\n",
      "Produto 3: R$ 4\n",
      "Produto 4: R$ 0\n",
      "\n",
      "Total: R$ 9.00\n",
      "Dinheiro: R$ 10\n",
      "Troco: R$ 1.00\n"
     ]
    }
   ],
   "source": [
    "soma = 0.0\n",
    "produto = 1\n",
    "preco = 1\n",
    "\n",
    "\n",
    "while (preco != 0):\n",
    "    preco = float(input(f'Produto {produto}: R$ '))\n",
    "    soma += preco\n",
    "    produto += 1\n",
    "\n",
    "print ('\\nTotal: R$ %.2f' % soma)\n",
    "pagamento = float(input('Dinheiro: R$ '))\n",
    "\n",
    "print ('Troco: R$ %.2f' % (pagamento - soma))"
   ]
  },
  {
   "cell_type": "markdown",
   "metadata": {},
   "source": [
    "23 - Foi feita uma estatística em cinco cidades brasileiras para coletar dados sobre acidentes de trânsito. Foram obtidos os seguintes dados:\n",
    "- Código da cidade;\n",
    "- Número de veículos de passeio (em 1999);\n",
    "- Número de acidentes de trânsito com vítimas (em 1999). \n",
    "\n",
    "Deseja-se saber:\n",
    "- Qual o maior e menor índice de acidentes de transito e a que cidade pertence;\n",
    "- Qual a média de veículos nas cinco cidades juntas;\n",
    "- Qual a média de acidentes de trânsito nas cidades com menos de 2.000 veículos de passeio."
   ]
  },
  {
   "cell_type": "code",
   "execution_count": 4,
   "metadata": {},
   "outputs": [
    {
     "name": "stdout",
     "output_type": "stream",
     "text": [
      "\n",
      "Digite o código da cidade: 1\n",
      "Digite o número de veículos de passeio (em 1999): 200\n",
      "Digite a quantidade de acidentes (em 1999): 20\n",
      "\n",
      "Digite o código da cidade: 2\n",
      "Digite o número de veículos de passeio (em 1999): 300\n",
      "Digite a quantidade de acidentes (em 1999): 30\n",
      "\n",
      "Digite o código da cidade: 3\n",
      "Digite o número de veículos de passeio (em 1999): 400\n",
      "Digite a quantidade de acidentes (em 1999): 40\n",
      "\n",
      "Digite o código da cidade: 4\n",
      "Digite o número de veículos de passeio (em 1999): 100\n",
      "Digite a quantidade de acidentes (em 1999): 10\n",
      "\n",
      "Digite o código da cidade: 5\n",
      "Digite o número de veículos de passeio (em 1999): 500\n",
      "Digite a quantidade de acidentes (em 1999): 50\n",
      "\n",
      "A cidade com maior índice de acidentes é 2 com 1.33\n",
      "A cidade com menor índice de acidentes é 1 com 0.01\n",
      "A média de veículos nas cidades é 300.00\n",
      "A média de acidentes de trânsito nas cidades com menos de dois mil veículos é 30.00\n"
     ]
    }
   ],
   "source": [
    "soma_veiculos = 0\n",
    "soma_acidentes = 0\n",
    "soma_acidentes_menos_dois_mil = 0\n",
    "total_cidades_menos_dois_mil = 0\n",
    "\n",
    "for i in range(0, 5):\n",
    "    codigo = int(input('\\nDigite o código da cidade: '))\n",
    "    veiculos = int(input('Digite o número de veículos de passeio (em 1999): '))\n",
    "    acidentes = int(input('Digite a quantidade de acidentes (em 1999): '))\n",
    "\n",
    "    indice_acidentes = acidentes / float(veiculos)\n",
    "    soma_veiculos += veiculos\n",
    "\n",
    "    if ('mais_acidentes' not in vars()) or (indice_acidentes > mais_acidentes):\n",
    "        mais_acidentes = indice_acidentes\n",
    "        codigo_mais_acidentes = codigo\n",
    "    if ('menos_acidentes' not in vars()) or (indice_acidentes < menos_acidentes):\n",
    "        menos_acidentes = indice_acidentes\n",
    "        codigo_menos_acidentes = codigo\n",
    "\n",
    "    if (veiculos < 2000):\n",
    "        soma_acidentes_menos_dois_mil += acidentes\n",
    "        total_cidades_menos_dois_mil += 1\n",
    "\n",
    "print ('\\nA cidade com maior índice de acidentes é %i com %.2f' %(codigo_mais_acidentes, mais_acidentes))\n",
    "print ('A cidade com menor índice de acidentes é %i com %.2f' %(codigo_menos_acidentes, menos_acidentes))\n",
    "print ('A média de veículos nas cidades é %.2f' % (soma_veiculos / 5.0))\n",
    "print ('A média de acidentes de trânsito nas cidades com menos de dois mil veículos é %.2f' %(soma_acidentes_menos_dois_mil / float(total_cidades_menos_dois_mil)))"
   ]
  },
  {
   "cell_type": "markdown",
   "metadata": {},
   "source": [
    "24 - Faça um programa que receba o valor de uma dívida e mostre uma tabela com os seguintes dados: valor da dívida, valor dos juros, quantidade de parcelas e valor da parcela.\n",
    "\n",
    "Os juros e a quantidade de parcelas seguem a tabela abaixo:\n",
    "\n",
    "Quantidade de Parcelas  % de Juros sobre o valor inicial da dívida\n",
    "\n",
    "1       0\n",
    "3       10\n",
    "6       15\n",
    "9       20\n",
    "12      25\n",
    "\n",
    "Exemplo de saída do programa:\n",
    "\n",
    "Valor da Dívida Valor dos Juros Quantidade de Parcelas  Valor da Parcela\n",
    "R$ 1.000,00     0               1                       R$  1.000,00\n",
    "R$ 1.100,00     100             3                       R$    366,00\n",
    "R$ 1.150,00     150             6                       R$    191,67"
   ]
  },
  {
   "cell_type": "code",
   "execution_count": 9,
   "metadata": {},
   "outputs": [
    {
     "name": "stdout",
     "output_type": "stream",
     "text": [
      "Digite o valor da dívida (em R$): 100\n",
      "Valor da Dívida | Valor dos Juros | Quantidade de Parcelas | Valor da Parcela\n",
      "R$ 100.00\tR$ 0.00\t1\tR$ 100.00\n",
      "R$ 110.00\tR$ 10.00\t3\tR$ 36.67\n",
      "R$ 115.00\tR$ 15.00\t6\tR$ 19.17\n",
      "R$ 120.00\tR$ 20.00\t9\tR$ 13.33\n",
      "R$ 125.00\tR$ 25.00\t12\tR$ 10.42\n"
     ]
    }
   ],
   "source": [
    "divida = float(input('Digite o valor da dívida (em R$): '))\n",
    "\n",
    "juros = 0\n",
    "print('Valor da Dívida | Valor dos Juros | Quantidade de Parcelas | Valor da Parcela')\n",
    "for i in [1, 3, 6, 9, 12]:\n",
    "    valor_juros = (divida * (juros / 100.0))\n",
    "    valor_divida = divida + valor_juros\n",
    "    valor_parcela = valor_divida / float(i)\n",
    "    print ('R$ %.2f\\tR$ %.2f\\t%i\\tR$ %.2f' %(valor_divida, valor_juros, i, valor_parcela))\n",
    "    if (i == 1):\n",
    "        juros = 10\n",
    "    else:\n",
    "        juros += 5"
   ]
  },
  {
   "cell_type": "markdown",
   "metadata": {},
   "source": [
    "25 - Faça um programa que mostre os n termos da série a seguir:\n",
    "\n",
    "S = 1/1 + 2/3 + 3/5 + 4/7 + 5/9 + ... + n/m. \n",
    "\n",
    "Imprima no final a soma da série."
   ]
  },
  {
   "cell_type": "code",
   "execution_count": 13,
   "metadata": {},
   "outputs": [
    {
     "name": "stdout",
     "output_type": "stream",
     "text": [
      "Digite quantos termos deseja: 3\n",
      "Resultado: 2.27\n"
     ]
    }
   ],
   "source": [
    "termos = int(input('Digite quantos termos deseja: '))\n",
    "\n",
    "soma = 0.0\n",
    "denominador = 1\n",
    "for i in range(1, termos + 1):\n",
    "    soma += i / denominador\n",
    "    denominador += 2\n",
    "\n",
    "print ('Resultado: %.2f' % soma)"
   ]
  }
 ],
 "metadata": {
  "kernelspec": {
   "display_name": "Python 3",
   "language": "python",
   "name": "python3"
  },
  "language_info": {
   "codemirror_mode": {
    "name": "ipython",
    "version": 3
   },
   "file_extension": ".py",
   "mimetype": "text/x-python",
   "name": "python",
   "nbconvert_exporter": "python",
   "pygments_lexer": "ipython3",
   "version": "3.6.4"
  }
 },
 "nbformat": 4,
 "nbformat_minor": 2
}
