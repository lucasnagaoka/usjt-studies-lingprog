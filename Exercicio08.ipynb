{
 "cells": [
  {
   "cell_type": "code",
   "execution_count": 3,
   "metadata": {},
   "outputs": [],
   "source": [
    "def maybe(fnc):\n",
    "    \n",
    "    def inner(*args):\n",
    "        \n",
    "        for a in args:\n",
    "            if isinstance(a, Exception):\n",
    "                return a\n",
    "        try:\n",
    "            return fnc(*args)\n",
    "        except Exception as e:\n",
    "            return e\n",
    "    return inner"
   ]
  },
  {
   "cell_type": "markdown",
   "metadata": {},
   "source": [
    "**1\\.** Defina a função `soma_nat` que recebe como argumento um número natural $n$ e devolve a soma de todos os números naturais até $n$."
   ]
  },
  {
   "cell_type": "code",
   "execution_count": 4,
   "metadata": {},
   "outputs": [
    {
     "name": "stdout",
     "output_type": "stream",
     "text": [
      "Começando teste...\n",
      "15\n"
     ]
    }
   ],
   "source": [
    "soma_nat = maybe(lambda numero: numero if numero <= 1 and numero >= 0 else numero + soma_nat(numero - 1))\n",
    "\n",
    "print('Começando teste...')\n",
    "assert soma_nat(5), 'Insira apenas números naturais (maiores ou iguais a 0)'\n",
    "print(soma_nat(5))"
   ]
  },
  {
   "cell_type": "markdown",
   "metadata": {},
   "source": [
    "**2\\.** Defina a função `div` que recebe como argumentos dois números naturais $m$ e $n$ e devolve o resultado da divisão inteira de $m$ por $n$. Neste exercício não pode recorrer às operações aritméticas de multiplicação, divisão e resto da divisão inteira."
   ]
  },
  {
   "cell_type": "code",
   "execution_count": 5,
   "metadata": {},
   "outputs": [
    {
     "name": "stdout",
     "output_type": "stream",
     "text": [
      "Começando teste...\n",
      "3\n"
     ]
    }
   ],
   "source": [
    "div = maybe(lambda num, den: 0 if num < den else div(num-den, den) + 1)\n",
    "    \n",
    "print('Começando teste...')\n",
    "assert div(7,2), 'Algo deu errado'\n",
    "print(div(7, 2))"
   ]
  },
  {
   "cell_type": "markdown",
   "metadata": {},
   "source": [
    "**3\\.** Defina a função `prim_alg` que recebe como argumento um número natural e devolve o primeiro algarismo (o mais significativo) na representação decimal de $n$."
   ]
  },
  {
   "cell_type": "code",
   "execution_count": 6,
   "metadata": {},
   "outputs": [
    {
     "name": "stdout",
     "output_type": "stream",
     "text": [
      "Começando teste...\n",
      "5\n"
     ]
    }
   ],
   "source": [
    "prim_alg = maybe(lambda numero: None if numero < 0 else str(numero)[:1])\n",
    "        \n",
    "print('Começando teste...')\n",
    "assert prim_alg(5649), 'É preciso informar um número natural (maior ou igual a zero)'\n",
    "print(prim_alg(5649))"
   ]
  },
  {
   "cell_type": "markdown",
   "metadata": {},
   "source": [
    "**4\\.** Defina a função `prod_lista` que recebe como argumento uma lista de inteiros e devolve o produto dos seus elementos."
   ]
  },
  {
   "cell_type": "code",
   "execution_count": 7,
   "metadata": {},
   "outputs": [
    {
     "name": "stdout",
     "output_type": "stream",
     "text": [
      "Começando teste...\n",
      "720\n"
     ]
    }
   ],
   "source": [
    "from functools import reduce\n",
    "\n",
    "prod_lista = maybe(lambda lista: reduce(lambda x, y: x * y, lista))\n",
    "    \n",
    "print('Começando teste...')\n",
    "assert prod_lista([1,2,3,4,5,6]), 'Algo deu errado'\n",
    "print(prod_lista([1,2,3,4,5,6]))"
   ]
  },
  {
   "cell_type": "markdown",
   "metadata": {},
   "source": [
    "**5\\.** Defina a função `contem_parQ` que recebe como argumento uma lista de números inteiros $w$ e devolve `True` se $w$ contém um número par e `False` em caso contrário."
   ]
  },
  {
   "cell_type": "code",
   "execution_count": 8,
   "metadata": {},
   "outputs": [
    {
     "name": "stdout",
     "output_type": "stream",
     "text": [
      "Começando teste...\n",
      "True\n"
     ]
    }
   ],
   "source": [
    "contem_parQ = maybe(lambda w: True if w[0] % 2 == 0 else (contem_parQ(w + 1) if len(w) > 1 else False))\n",
    "\n",
    "print('Começando teste...')\n",
    "assert contem_parQ([2,3,1,2,3,4]), 'Não há números pares na lista passada'\n",
    "print(contem_parQ([2,3,1,2,3,4]))"
   ]
  }
 ],
 "metadata": {
  "kernelspec": {
   "display_name": "Python 3",
   "language": "python",
   "name": "python3"
  },
  "language_info": {
   "codemirror_mode": {
    "name": "ipython",
    "version": 3
   },
   "file_extension": ".py",
   "mimetype": "text/x-python",
   "name": "python",
   "nbconvert_exporter": "python",
   "pygments_lexer": "ipython3",
   "version": "3.6.4"
  }
 },
 "nbformat": 4,
 "nbformat_minor": 2
}
